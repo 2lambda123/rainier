{
  "metadata" : {
    "config" : {
      "dependencies" : {
        "scala" : [
          "com.stripe:rainier-notebook_2.12:0.3.1-SNAPSHOT",
          "com.stripe:rainier-core_2.12:0.3.1-SNAPSHOT"
        ]
      },
      "exclusions" : [
      ],
      "repositories" : [
        {
          "maven" : {
            "base" : "https://jitpack.io"
          }
        },
        {
          "maven" : {
            "base" : "https://dl.bintray.com/cibotech/public"
          }
        }
      ],
      "sparkConfig" : {
        
      }
    }
  },
  "nbformat" : 4,
  "nbformat_minor" : 0,
  "cells" : [
    {
      "cell_type" : "code",
      "execution_count" : 1,
      "metadata" : {
        "cell.metadata.exec_info" : {
          "startTs" : 1580967930060,
          "endTs" : 1580967930539
        },
        "language" : "scala"
      },
      "language" : "scala",
      "source" : [
        "import com.stripe.rainier.notebook._\n",
        "import polynote.runtime._"
      ],
      "outputs" : [
      ]
    },
    {
      "cell_type" : "code",
      "execution_count" : 2,
      "metadata" : {
        "cell.metadata.exec_info" : {
          "startTs" : 1580967930557,
          "endTs" : 1580967934487
        },
        "language" : "scala"
      },
      "language" : "scala",
      "source" : [
        "val x = show(\"foo\", scatter(1.to(100).map{i => (i, i*2)}))"
      ],
      "outputs" : [
      ]
    },
    {
      "cell_type" : "code",
      "execution_count" : 3,
      "metadata" : {
        "cell.metadata.exec_info" : {
          "startTs" : 1580967934492,
          "endTs" : 1580967934948
        },
        "language" : "scala"
      },
      "language" : "scala",
      "source" : [
        "implicitly[RainierReprsOf[almond.display.Image]]"
      ],
      "outputs" : [
        {
          "execution_count" : 3,
          "data" : {
            "text/plain" : [
              "com.stripe.rainier.notebook.RainierReprsOf$$anon$1@2e1b3b09"
            ]
          },
          "metadata" : {
            "name" : "Out",
            "type" : "RainierReprsOf[Image]"
          },
          "output_type" : "execute_result"
        }
      ]
    },
    {
      "cell_type" : "code",
      "execution_count" : 4,
      "metadata" : {
        "cell.metadata.exec_info" : {
          "startTs" : 1580967934951,
          "endTs" : 1580967935008
        },
        "language" : "scala"
      },
      "language" : "scala",
      "source" : [
        "implicitly[ReprsOf[almond.display.Image]]"
      ],
      "outputs" : [
        {
          "execution_count" : 4,
          "data" : {
            "application/json" : [
              {
                "pos" : {
                  "sourceId" : "Cell4",
                  "start" : 0,
                  "end" : 41,
                  "point" : 10
                },
                "msg" : "could not find implicit value for parameter e: polynote.runtime.ReprsOf[almond.display.Image]",
                "severity" : 2
              }
            ],
            "text/plain" : [
              "Error: could not find implicit value for parameter e: polynote.runtime.ReprsOf[almond.display.Image] (0)"
            ]
          },
          "metadata" : {
            "rel" : "compiler_errors"
          },
          "output_type" : "execute_result"
        }
      ]
    },
    {
      "cell_type" : "code",
      "execution_count" : 5,
      "metadata" : {
        "cell.metadata.exec_info" : {
          "startTs" : 1580967935009,
          "endTs" : 1580967935102
        },
        "language" : "scala"
      },
      "language" : "scala",
      "source" : [
      ],
      "outputs" : [
      ]
    }
  ]
}